{
 "cells": [
  {
   "cell_type": "markdown",
   "metadata": {},
   "source": [
    "# Testing federated learning\n",
    "The purpose of this notebook is to run a data analysis pipeline on vantage 6.\n",
    "\n",
    "The outcome of the pipeline is irrelevant so far.  This notebook is mainly a POC for creating a data analysis client-side and using it to train a model on a federated dataset."
   ]
  },
  {
   "cell_type": "code",
   "execution_count": 3,
   "metadata": {},
   "outputs": [],
   "source": [
    "import vantage6.client as vtgclient\n",
    "from sklearn.datasets import load_iris\n",
    "from sklearn.linear_model import LinearRegression\n",
    "from sklearn.preprocessing import StandardScaler\n",
    "from sklearn import pipeline\n",
    "from sklearn.impute import SimpleImputer\n",
    "from run_task import print_result, print_logs\n",
    "import numpy as np"
   ]
  },
  {
   "cell_type": "code",
   "execution_count": 4,
   "metadata": {},
   "outputs": [],
   "source": [
    "HOST = 'http://localhost'\n",
    "PORT = 5001\n",
    "IMAGE ='localhost:5000/v6-carrier-py'\n",
    "\n",
    "USERNAME = 'admin'\n",
    "PASSWORD = 'admin'\n",
    "\n",
    "COLLABORATION_ID = 1\n",
    "MASTER_ORGANIZATION = [1]\n",
    "RPC_ORGANIZATIONS = [2,3, 6]\n",
    "\n",
    "KEYS = ['GBAGeboorteJaar', 'GBAGeboorteMaand', 'GBAGeboorteDag', 'GBAGeslacht',\n",
    "        'GBAPostcode', 'GBAHuisnummer', 'GBAToev']\n",
    "\n",
    "\n",
    "FEATURES = ['height', 'weight', 'bmi', 'Age', 'n_smokingcat4', 'WOZ', 'N_ALCOHOL_CAT',\n",
    "            'ZVWKOPHOOGFACTOR_2010', 'ZVWKHUISARTS_2010', 'ZVWKFARMACIE_2010', 'ZVWKZIEKENHUIS_2010', 'ZVWKPARAMEDISCH_2010', 'ZVWKZIEKENVERVOER_2010',\n",
    "        'ZVWKBUITENLAND_2010', 'ZVWKOVERIG_2010', 'ZVWKEERSTELIJNSPSYCHO_2010', 'ZVWKGGZ_2010',\n",
    "        'ZVWKHULPMIDDEL_2010', 'ZVWKOPHOOGFACTOR_2011', 'ZVWKHUISARTS_2011']\n",
    "TARGET = 'N_CVD'\n",
    "client = vtgclient.Client(HOST, PORT)\n",
    "client.authenticate(USERNAME, PASSWORD)\n",
    "client.setup_encryption(None)"
   ]
  },
  {
   "cell_type": "code",
   "execution_count": 5,
   "metadata": {},
   "outputs": [],
   "source": [
    "# Retrieve columns names to check if a simple algorithm succeeds\n",
    "task = client.post_task('column_names', image=IMAGE, collaboration_id=COLLABORATION_ID,\n",
    "                        organization_ids=RPC_ORGANIZATIONS,\n",
    "                        input_={'method': 'column_names', 'master': False})"
   ]
  },
  {
   "cell_type": "code",
   "execution_count": 6,
   "metadata": {},
   "outputs": [
    {
     "name": "stdout",
     "output_type": "stream",
     "text": [
      "0: None\n",
      "1: None\n",
      "2: None\n",
      "Log for organization 3\n",
      "None\n",
      "Log for organization 2\n",
      "None\n",
      "Log for organization 6\n",
      "None\n"
     ]
    }
   ],
   "source": [
    "# It will take a few seconds before results are returned\n",
    "result = client.get_results(task_id=task['id'])\n",
    "print_result(result)\n",
    "print_logs(result)"
   ]
  },
  {
   "cell_type": "code",
   "execution_count": 7,
   "metadata": {},
   "outputs": [],
   "source": [
    "\n",
    "\n",
    "pipe = pipeline.make_pipeline(SimpleImputer(missing_values=np.nan), StandardScaler(), LinearRegression())"
   ]
  },
  {
   "cell_type": "code",
   "execution_count": 8,
   "metadata": {},
   "outputs": [],
   "source": [
    "task = client.post_task('train_model', image=IMAGE, collaboration_id=COLLABORATION_ID,\n",
    "                        organization_ids=MASTER_ORGANIZATION,\n",
    "                        input_={'method': 'train_model', 'master': True,\n",
    "                            'kwargs': {'pipeline': pipe, 'features': FEATURES, 'target': TARGET,\n",
    "                                      'keys': KEYS, 'exclude_orgs': MASTER_ORGANIZATION + [3]}})"
   ]
  },
  {
   "cell_type": "code",
   "execution_count": 10,
   "metadata": {},
   "outputs": [
    {
     "name": "stdout",
     "output_type": "stream",
     "text": [
      "0: 24.943656525556797\n",
      "Log for organization 1\n",
      "info > wrapper for v6_carrier_py\n",
      "info > Reading input file /mnt/data/task-000000217/input\n",
      "info > Reading token file '/mnt/data/task-000000217/token'\n",
      "info > Using '/mnt/data/database.csv' as database\n",
      "info > Dispatching ...\n",
      "info > Module 'v6_carrier_py' imported!\n",
      "info > Running a master-container\n",
      "info > Working with collaboration_id <1>\n",
      "info > Training pipeline with the following steps: {'simpleimputer': SimpleImputer(), 'standardscaler': StandardScaler(), 'linearregression': LinearRegression()}\n",
      "info > Organizations in my collaboration: [{'_public_key': '', 'address1': 'my address 1, Amsterdam', 'address2': None, 'country': 'the Netherlands', 'domain': None, 'id': 1, 'name': 'NLEsC', 'zipcode': '1234ab'}, {'_public_key': '', 'address1': 'my address 1, Amsterdam', 'address2': None, 'country': 'the Netherlands', 'domain': None, 'id': 2, 'name': 'organization for node 0', 'zipcode': '1234ab'}, {'_public_key': '', 'address1': 'my address 1, Amsterdam', 'address2': None, 'country': 'the Netherlands', 'domain': None, 'id': 3, 'name': 'organization for node 1', 'zipcode': '1234ab'}, {'_public_key': '', 'address1': 'my address 1, Amsterdam', 'address2': None, 'country': 'the Netherlands', 'domain': None, 'id': 6, 'name': 'organization for cbs node', 'zipcode': '1234ab'}]\n",
      "info > Dispatching task to organizations with ids [2, 6].\n",
      "[1, 3] will be excluded.\n",
      "info > Defining input parameters\n",
      "info > Dispatching node-tasks\n",
      "info > Waiting for results\n",
      "info > Waiting for results\n",
      "info > Waiting for results\n",
      "info > Waiting for results\n",
      "info > Waiting for results\n",
      "info > Waiting for results\n",
      "info > Obtaining results\n",
      "info > Retrieved node data with columns Index(['GBAGeboorteJaar', 'GBAGeboorteMaand', 'GBAGeboorteDag', 'GBAGeslacht',\n",
      "       'GBAPostcode', 'GBAHuisnummer', 'GBAToev', 'ZVWKOPHOOGFACTOR_2010',\n",
      "       'ZVWKHUISARTS_2010', 'ZVWKFARMACIE_2010', 'ZVWKZIEKENHUIS_2010',\n",
      "       'ZVWKPARAMEDISCH_2010', 'ZVWKZIEKENVERVOER_2010', 'ZVWKBUITENLAND_2010',\n",
      "       'ZVWKOVERIG_2010', 'ZVWKEERSTELIJNSPSYCHO_2010', 'ZVWKGGZ_2010',\n",
      "       'ZVWKHULPMIDDEL_2010', 'ZVWKOPHOOGFACTOR_2011', 'ZVWKHUISARTS_2011',\n",
      "       'ZVWKFARMACIE_2011', 'ZVWKZIEKENHUIS_2011', 'ZVWKPARAMEDISCH_2011',\n",
      "       'ZVWKZIEKENVERVOER_2011', 'ZVWKBUITENLAND_2011', 'ZVWKOVERIG_2011',\n",
      "       'ZVWKEERSTELIJNSPSYCHO_2011', 'ZVWKGGZ_2011', 'ZVWKHULPMIDDEL_2011',\n",
      "       'ZVWKOPHOOGFACTOR_2012', 'ZVWKHUISARTS_2012', 'ZVWKFARMACIE_2012',\n",
      "       'ZVWKZIEKENHUIS_2012', 'ZVWKPARAMEDISCH_2012', 'ZVWKZIEKENVERVOER_2012',\n",
      "       'ZVWKBUITENLAND_2012', 'ZVWKOVERIG_2012', 'ZVWKEERSTELIJNSPSYCHO_2012',\n",
      "       'ZVWKGGZ_2012', 'ZVWKHULPMIDDEL_2012', 'ZVWKOPHOOGFACTOR_2013',\n",
      "       'ZVWKHUISARTS_2013', 'ZVWKFARMACIE_2013', 'ZVWKZIEKENHUIS_2013',\n",
      "       'ZVWKPARAMEDISCH_2013', 'ZVWKZIEKENVERVOER_2013', 'ZVWKBUITENLAND_2013',\n",
      "       'ZVWKOVERIG_2013', 'ZVWKEERSTELIJNSPSYCHO_2013', 'ZVWKGGZ_2013',\n",
      "       'ZVWKGERIATRISCH_2013', 'ZVWKHULPMIDDEL_2013', 'ZVWKOPHOOGFACTOR_2014',\n",
      "       'ZVWKHUISARTS_2014', 'ZVWKFARMACIE_2014', 'ZVWKZIEKENHUIS_2014',\n",
      "       'ZVWKPARAMEDISCH_2014', 'ZVWKZIEKENVERVOER_2014', 'ZVWKBUITENLAND_2014',\n",
      "       'ZVWKOVERIG_2014', 'ZVWKGENBASGGZ_2014', 'ZVWKSPECGGZ_2014',\n",
      "       'ZVWKGERIATRISCH_2014', 'ZVWKHULPMIDDEL_2014', 'ZVWKWYKVERPLEGING_2014',\n",
      "       'ZVWKOPHOOGFACTOR_2015', 'ZVWKHUISARTS_2015', 'ZVWKFARMACIE_2015',\n",
      "       'ZVWKZIEKENHUIS_2015', 'ZVWKPARAMEDISCH_2015', 'ZVWKZIEKENVERVOER_2015',\n",
      "       'ZVWKBUITENLAND_2015', 'ZVWKOVERIG_2015', 'ZVWKGENBASGGZ_2015',\n",
      "       'ZVWKSPECGGZ_2015', 'ZVWKGERIATRISCH_2015', 'ZVWKWYKVERPLEGING_2015',\n",
      "       'ZVWKHULPMIDDEL_2015', 'ZVWKMULTIDISC_2015', 'ZVWKOPHOOGFACTOR_2016',\n",
      "       'ZVWKHUISARTS_2016', 'ZVWKFARMACIE_2016', 'ZVWKZIEKENHUIS_2016',\n",
      "       'ZVWKPARAMEDISCH_2016', 'ZVWKZIEKENVERVOER_2016', 'ZVWKBUITENLAND_2016',\n",
      "       'ZVWKOVERIG_2016', 'ZVWKGENBASGGZ_2016', 'ZVWKSPECGGZ_2016',\n",
      "       'ZVWKGERIATRISCH_2016', 'ZVWKWYKVERPLEGING_2016', 'ZVWKHULPMIDDEL_2016',\n",
      "       'ZVWKMULTIDISC_2016'],\n",
      "      dtype='object')\n",
      "info > Retrieved node data with columns Index(['Unnamed: 0', 'GBAGeboorteJaar', 'GBAGeboorteMaand', 'GBAGeboorteDag',\n",
      "       'GBAGeslacht', 'GBAPostcode', 'GBAHuisnummer', 'GBAToev', 'VISIT1_DATE',\n",
      "       'N_DM_DUR_2', 'N_GTS_WHO', 'N_Diabetes_WHO_2', 'N_DIABETES_2',\n",
      "       'N_T2DM_new_diagn', 'SEX', 'Age', 'N_Education_3cat',\n",
      "       'Employment_status', 'Occupational_category', 'Income_equivalent',\n",
      "       'n_smokingcat4', 'WOZ', 'N_ALCOHOL_CAT', 'NIT_kcal', 'medGRscore_TR',\n",
      "       'height', 'weight', 'bmi', 'N_CVD', 'med_depression', 'PHQ9_depr',\n",
      "       'MINIcurrdepr', 'MINIlifedepr', 'N_HT', 'TOTALPA', 'MVPA',\n",
      "       'MEAN_VALID_MIN_SLEEP_T', 'MEAN_SED_MIN_WAKE_T',\n",
      "       'MEAN_STAND_MIN_WAKE_T', 'MEAN_STEP_MIN_WAKE_T', 'waist', 'hip',\n",
      "       'SF36_Q7', 'SF36_Q10', 'Mobility_lim'],\n",
      "      dtype='object')\n",
      "Index(['GBAGeboorteJaar', 'GBAGeboorteMaand', 'GBAGeboorteDag', 'GBAGeslacht',\n",
      "       'GBAPostcode', 'GBAHuisnummer', 'GBAToev', 'ZVWKOPHOOGFACTOR_2010',\n",
      "       'ZVWKHUISARTS_2010', 'ZVWKFARMACIE_2010',\n",
      "       ...\n",
      "       'MVPA', 'MEAN_VALID_MIN_SLEEP_T', 'MEAN_SED_MIN_WAKE_T',\n",
      "       'MEAN_STAND_MIN_WAKE_T', 'MEAN_STEP_MIN_WAKE_T', 'waist', 'hip',\n",
      "       'SF36_Q7', 'SF36_Q10', 'Mobility_lim'],\n",
      "      dtype='object', length=131)\n",
      "info > Writing output to /mnt/data/task-000000217/output\n",
      "\n"
     ]
    }
   ],
   "source": [
    "result = client.get_results(task_id=task['id'])\n",
    "print_result(result)\n",
    "print_logs(result)"
   ]
  },
  {
   "cell_type": "code",
   "execution_count": 11,
   "metadata": {},
   "outputs": [
    {
     "data": {
      "text/plain": [
       "24.943656525556797"
      ]
     },
     "execution_count": 11,
     "metadata": {},
     "output_type": "execute_result"
    }
   ],
   "source": [
    "# The actual result of the algorithm\n",
    "result[0]['result']"
   ]
  },
  {
   "cell_type": "code",
   "execution_count": null,
   "metadata": {},
   "outputs": [],
   "source": []
  }
 ],
 "metadata": {
  "kernelspec": {
   "display_name": "Python 3",
   "language": "python",
   "name": "python3"
  },
  "language_info": {
   "codemirror_mode": {
    "name": "ipython",
    "version": 3
   },
   "file_extension": ".py",
   "mimetype": "text/x-python",
   "name": "python",
   "nbconvert_exporter": "python",
   "pygments_lexer": "ipython3",
   "version": "3.7.6"
  }
 },
 "nbformat": 4,
 "nbformat_minor": 4
}
