{
 "cells": [
  {
   "cell_type": "markdown",
   "metadata": {},
   "source": [
    "# Testing federated learning\n",
    "The purpose of this notebook is to run a data analysis pipeline on vantage 6.\n",
    "\n",
    "The outcome of the pipeline is irrelevant so far.  This notebook is mainly a POC for creating a data analysis client-side and using it to train a model on a federated dataset."
   ]
  },
  {
   "cell_type": "code",
   "execution_count": 1,
   "metadata": {},
   "outputs": [],
   "source": [
    "import vantage6.client as vtgclient\n",
    "from sklearn.datasets import load_iris\n",
    "from sklearn.linear_model import LinearRegression, GammaRegressor\n",
    "from sklearn.preprocessing import StandardScaler\n",
    "from sklearn import pipeline\n",
    "from sklearn.impute import SimpleImputer\n",
    "from run_task import print_result, print_logs\n",
    "import numpy as np"
   ]
  },
  {
   "cell_type": "code",
   "execution_count": 3,
   "metadata": {},
   "outputs": [],
   "source": [
    "HOST = 'http://vserver'\n",
    "PORT = 5000\n",
    "IMAGE ='localhost:5000/v6-carrier-py'\n",
    "\n",
    "USERNAME = 'admin'\n",
    "PASSWORD = 'admin'\n",
    "\n",
    "COLLABORATION_ID = 1\n",
    "MASTER_ORGANIZATION = [1]\n",
    "RPC_ORGANIZATIONS = [2,3, 6]\n",
    "\n",
    "KEYS = ['GBAGeboorteJaar', 'GBAGeboorteMaand', 'GBAGeboorteDag', 'GBAGeslacht',\n",
    "        'GBAPostcode', 'GBAHuisnummer', 'GBAToev']\n",
    "\n",
    "\n",
    "FEATURES = ['height', 'weight', 'bmi', 'Age', 'n_smokingcat4', 'WOZ', 'N_ALCOHOL_CAT',\n",
    "            'ZVWKOPHOOGFACTOR_2010', 'ZVWKHUISARTS_2010', 'ZVWKFARMACIE_2010', 'ZVWKZIEKENHUIS_2010', 'ZVWKPARAMEDISCH_2010', 'ZVWKZIEKENVERVOER_2010',\n",
    "        'ZVWKBUITENLAND_2010', 'ZVWKOVERIG_2010', 'ZVWKEERSTELIJNSPSYCHO_2010', 'ZVWKGGZ_2010',\n",
    "        'ZVWKHULPMIDDEL_2010', 'ZVWKOPHOOGFACTOR_2011', 'ZVWKHUISARTS_2011']\n",
    "TARGET = 'N_CVD'\n",
    "client = vtgclient.Client(HOST, PORT)\n",
    "client.authenticate(USERNAME, PASSWORD)\n",
    "client.setup_encryption(None)"
   ]
  },
  {
   "cell_type": "code",
   "execution_count": 4,
   "metadata": {},
   "outputs": [],
   "source": [
    "# Retrieve columns names to check if a simple algorithm succeeds\n",
    "task = client.post_task('column_names', image=IMAGE, collaboration_id=COLLABORATION_ID,\n",
    "                        organization_ids=RPC_ORGANIZATIONS,\n",
    "                        input_={'method': 'column_names', 'master': False})"
   ]
  },
  {
   "cell_type": "code",
   "execution_count": 6,
   "metadata": {},
   "outputs": [
    {
     "name": "stdout",
     "output_type": "stream",
     "text": [
      "0: ['Unnamed: 0', 'GBAGeboorteJaar', 'GBAGeboorteMaand', 'GBAGeboorteDag', 'GBAGeslacht', 'GBAPostcode', 'GBAHuisnummer', 'GBAToev', 'VISIT1_DATE', 'N_DM_DUR_2', 'N_GTS_WHO', 'N_Diabetes_WHO_2', 'N_DIABETES_2', 'N_T2DM_new_diagn', 'SEX', 'Age', 'N_Education_3cat', 'Employment_status', 'Occupational_category', 'Income_equivalent', 'n_smokingcat4', 'WOZ', 'N_ALCOHOL_CAT', 'NIT_kcal', 'medGRscore_TR', 'height', 'weight', 'bmi', 'N_CVD', 'med_depression', 'PHQ9_depr', 'MINIcurrdepr', 'MINIlifedepr', 'N_HT', 'TOTALPA', 'MVPA', 'MEAN_VALID_MIN_SLEEP_T', 'MEAN_SED_MIN_WAKE_T', 'MEAN_STAND_MIN_WAKE_T', 'MEAN_STEP_MIN_WAKE_T', 'waist', 'hip', 'SF36_Q7', 'SF36_Q10', 'Mobility_lim']\n",
      "1: ['Unnamed: 0', 'GBAGeboorteJaar', 'GBAGeboorteMaand', 'GBAGeboorteDag', 'GBAGeslacht', 'GBAPostcode', 'GBAHuisnummer', 'GBAToev', 'VISIT1_DATE', 'N_DM_DUR_2', 'N_GTS_WHO', 'N_Diabetes_WHO_2', 'N_DIABETES_2', 'N_T2DM_new_diagn', 'SEX', 'Age', 'N_Education_3cat', 'Employment_status', 'Occupational_category', 'Income_equivalent', 'n_smokingcat4', 'WOZ', 'N_ALCOHOL_CAT', 'NIT_kcal', 'medGRscore_TR', 'height', 'weight', 'bmi', 'N_CVD', 'med_depression', 'PHQ9_depr', 'MINIcurrdepr', 'MINIlifedepr', 'N_HT', 'TOTALPA', 'MVPA', 'MEAN_VALID_MIN_SLEEP_T', 'MEAN_SED_MIN_WAKE_T', 'MEAN_STAND_MIN_WAKE_T', 'MEAN_STEP_MIN_WAKE_T', 'waist', 'hip', 'SF36_Q7', 'SF36_Q10', 'Mobility_lim']\n",
      "2: ['GBAGeboorteJaar', 'GBAGeboorteMaand', 'GBAGeboorteDag', 'GBAGeslacht', 'GBAPostcode', 'GBAHuisnummer', 'GBAToev', 'ZVWKOPHOOGFACTOR_2010', 'ZVWKHUISARTS_2010', 'ZVWKFARMACIE_2010', 'ZVWKZIEKENHUIS_2010', 'ZVWKPARAMEDISCH_2010', 'ZVWKZIEKENVERVOER_2010', 'ZVWKBUITENLAND_2010', 'ZVWKOVERIG_2010', 'ZVWKEERSTELIJNSPSYCHO_2010', 'ZVWKGGZ_2010', 'ZVWKHULPMIDDEL_2010', 'ZVWKOPHOOGFACTOR_2011', 'ZVWKHUISARTS_2011', 'ZVWKFARMACIE_2011', 'ZVWKZIEKENHUIS_2011', 'ZVWKPARAMEDISCH_2011', 'ZVWKZIEKENVERVOER_2011', 'ZVWKBUITENLAND_2011', 'ZVWKOVERIG_2011', 'ZVWKEERSTELIJNSPSYCHO_2011', 'ZVWKGGZ_2011', 'ZVWKHULPMIDDEL_2011', 'ZVWKOPHOOGFACTOR_2012', 'ZVWKHUISARTS_2012', 'ZVWKFARMACIE_2012', 'ZVWKZIEKENHUIS_2012', 'ZVWKPARAMEDISCH_2012', 'ZVWKZIEKENVERVOER_2012', 'ZVWKBUITENLAND_2012', 'ZVWKOVERIG_2012', 'ZVWKEERSTELIJNSPSYCHO_2012', 'ZVWKGGZ_2012', 'ZVWKHULPMIDDEL_2012', 'ZVWKOPHOOGFACTOR_2013', 'ZVWKHUISARTS_2013', 'ZVWKFARMACIE_2013', 'ZVWKZIEKENHUIS_2013', 'ZVWKPARAMEDISCH_2013', 'ZVWKZIEKENVERVOER_2013', 'ZVWKBUITENLAND_2013', 'ZVWKOVERIG_2013', 'ZVWKEERSTELIJNSPSYCHO_2013', 'ZVWKGGZ_2013', 'ZVWKGERIATRISCH_2013', 'ZVWKHULPMIDDEL_2013', 'ZVWKOPHOOGFACTOR_2014', 'ZVWKHUISARTS_2014', 'ZVWKFARMACIE_2014', 'ZVWKZIEKENHUIS_2014', 'ZVWKPARAMEDISCH_2014', 'ZVWKZIEKENVERVOER_2014', 'ZVWKBUITENLAND_2014', 'ZVWKOVERIG_2014', 'ZVWKGENBASGGZ_2014', 'ZVWKSPECGGZ_2014', 'ZVWKGERIATRISCH_2014', 'ZVWKHULPMIDDEL_2014', 'ZVWKWYKVERPLEGING_2014', 'ZVWKOPHOOGFACTOR_2015', 'ZVWKHUISARTS_2015', 'ZVWKFARMACIE_2015', 'ZVWKZIEKENHUIS_2015', 'ZVWKPARAMEDISCH_2015', 'ZVWKZIEKENVERVOER_2015', 'ZVWKBUITENLAND_2015', 'ZVWKOVERIG_2015', 'ZVWKGENBASGGZ_2015', 'ZVWKSPECGGZ_2015', 'ZVWKGERIATRISCH_2015', 'ZVWKWYKVERPLEGING_2015', 'ZVWKHULPMIDDEL_2015', 'ZVWKMULTIDISC_2015', 'ZVWKOPHOOGFACTOR_2016', 'ZVWKHUISARTS_2016', 'ZVWKFARMACIE_2016', 'ZVWKZIEKENHUIS_2016', 'ZVWKPARAMEDISCH_2016', 'ZVWKZIEKENVERVOER_2016', 'ZVWKBUITENLAND_2016', 'ZVWKOVERIG_2016', 'ZVWKGENBASGGZ_2016', 'ZVWKSPECGGZ_2016', 'ZVWKGERIATRISCH_2016', 'ZVWKWYKVERPLEGING_2016', 'ZVWKHULPMIDDEL_2016', 'ZVWKMULTIDISC_2016']\n",
      "Log for organization 2\n",
      "info > wrapper for v6_carrier_py\n",
      "info > Reading input file /mnt/data/task-000000333/input\n",
      "info > Reading token file '/mnt/data/task-000000333/token'\n",
      "info > Using '/mnt/data/database.csv' as database\n",
      "info > Dispatching ...\n",
      "info > Module 'v6_carrier_py' imported!\n",
      "info > Running a regular container\n",
      "info > Retrieving column names\n",
      "info > Writing output to /mnt/data/task-000000333/output\n",
      "\n",
      "Log for organization 3\n",
      "info > wrapper for v6_carrier_py\n",
      "info > Reading input file /mnt/data/task-000000334/input\n",
      "info > Reading token file '/mnt/data/task-000000334/token'\n",
      "info > Using '/mnt/data/database.csv' as database\n",
      "info > Dispatching ...\n",
      "info > Module 'v6_carrier_py' imported!\n",
      "info > Running a regular container\n",
      "info > Retrieving column names\n",
      "info > Writing output to /mnt/data/task-000000334/output\n",
      "\n",
      "Log for organization 6\n",
      "info > wrapper for v6_carrier_py\n",
      "info > Reading input file /mnt/data/task-000000335/input\n",
      "info > Reading token file '/mnt/data/task-000000335/token'\n",
      "info > Using '/mnt/data/database.csv' as database\n",
      "info > Dispatching ...\n",
      "info > Module 'v6_carrier_py' imported!\n",
      "info > Running a regular container\n",
      "info > Retrieving column names\n",
      "info > Writing output to /mnt/data/task-000000335/output\n",
      "\n"
     ]
    }
   ],
   "source": [
    "# It will take a few seconds before results are returned\n",
    "result = client.get_results(task_id=task['id'])\n",
    "print_result(result)\n",
    "print_logs(result)"
   ]
  },
  {
   "cell_type": "code",
   "execution_count": 13,
   "metadata": {},
   "outputs": [],
   "source": [
    "pipe = pipeline.make_pipeline(SimpleImputer(missing_values=0), StandardScaler(), LinearRegression())"
   ]
  },
  {
   "cell_type": "code",
   "execution_count": 14,
   "metadata": {},
   "outputs": [],
   "source": [
    "task = client.post_task('fit_pipeline', image=IMAGE, collaboration_id=COLLABORATION_ID,\n",
    "                        organization_ids=MASTER_ORGANIZATION,\n",
    "                        input_={'method': 'fit_pipeline', 'master': True,\n",
    "                            'kwargs': {'pipe': pipe, 'features': FEATURES, 'target': TARGET,\n",
    "                                      'keys': KEYS, 'exclude_orgs': MASTER_ORGANIZATION + [3]}})"
   ]
  },
  {
   "cell_type": "code",
   "execution_count": 16,
   "metadata": {},
   "outputs": [
    {
     "name": "stdout",
     "output_type": "stream",
     "text": [
      "0: None\n",
      "Log for organization 1\n",
      "None\n"
     ]
    }
   ],
   "source": [
    "result = client.get_results(task_id=task['id'])\n",
    "print_result(result)\n",
    "print_logs(result)"
   ]
  },
  {
   "cell_type": "code",
   "execution_count": 52,
   "metadata": {},
   "outputs": [],
   "source": [
    "# The actual result of the algorithm\n",
    "result[0]['result']"
   ]
  },
  {
   "cell_type": "code",
   "execution_count": null,
   "metadata": {},
   "outputs": [],
   "source": []
  }
 ],
 "metadata": {
  "kernelspec": {
   "display_name": "Python 3",
   "language": "python",
   "name": "python3"
  },
  "language_info": {
   "codemirror_mode": {
    "name": "ipython",
    "version": 3
   },
   "file_extension": ".py",
   "mimetype": "text/x-python",
   "name": "python",
   "nbconvert_exporter": "python",
   "pygments_lexer": "ipython3",
   "version": "3.8.4"
  }
 },
 "nbformat": 4,
 "nbformat_minor": 4
}
