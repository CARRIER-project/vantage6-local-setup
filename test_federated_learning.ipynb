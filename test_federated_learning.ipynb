{
 "cells": [
  {
   "cell_type": "markdown",
   "metadata": {},
   "source": [
    "# Testing federated learning\n",
    "The purpose of this notebook is to run a data analysis pipeline on vantage 6.\n",
    "\n",
    "The outcome of the pipeline is irrelevant so far.  This notebook is mainly a POC for creating a data analysis client-side and using it to train a model on a federated dataset."
   ]
  },
  {
   "cell_type": "code",
   "execution_count": 1,
   "metadata": {},
   "outputs": [],
   "source": [
    "import vantage6.client as vtgclient\n",
    "from sklearn.datasets import load_iris\n",
    "from sklearn.linear_model import LinearRegression, GammaRegressor\n",
    "from sklearn.preprocessing import StandardScaler\n",
    "from sklearn import pipeline\n",
    "from sklearn.impute import SimpleImputer\n",
    "from run_task import print_result, print_logs\n",
    "from pathlib import Path\n",
    "import numpy as np"
   ]
  },
  {
   "cell_type": "code",
   "execution_count": 2,
   "metadata": {},
   "outputs": [],
   "source": [
    "# Setup remote host\n",
    "HOST = 'http://host'\n",
    "PORT = 5000\n",
    "IMAGE ='carrier-harbor2.carrier-mu.surf-hosted.nl/carrier/v6-test-py'\n",
    "USERNAME = 'dummy'\n",
    "PASSWORD = 'fake'\n",
    "COLLABORATION_ID = 1\n",
    "ORGANIZATION_IDS = [1]\n",
    "\n",
    "\n",
    "MASTER_ORGANIZATION = [1]\n",
    "RPC_ORGANIZATIONS = [2,3, 6]\n",
    "\n",
    "TARGET = 'N_CVD'\n",
    "client = vtgclient.Client(HOST, PORT)\n",
    "client.authenticate(USERNAME, PASSWORD)\n",
    "\n",
    "\n",
    "#client.setup_encryption(None)\n",
    "client.setup_encryption(Path('/home/jovyan/app/node_rsa'))"
   ]
  },
  {
   "cell_type": "code",
   "execution_count": 3,
   "metadata": {},
   "outputs": [],
   "source": [
    "# Setup local host\n",
    "HOST = 'http://vserver'\n",
    "PORT = 5000\n",
    "IMAGE = 'harbor2.vantage6.ai/testing/v6-test-py'\n",
    "\n",
    "USERNAME = 'admin'\n",
    "PASSWORD = 'admin'\n",
    "\n",
    "COLLABORATION_ID = 1\n",
    "ORGANIZATION_IDS = [2, 3, 6]\n",
    "\n",
    "client = vtgclient.Client(HOST, PORT)\n",
    "client.authenticate(USERNAME, PASSWORD)\n",
    "\n",
    "client.setup_encryption(None)"
   ]
  },
  {
   "cell_type": "code",
   "execution_count": 14,
   "metadata": {},
   "outputs": [],
   "source": [
    "# Executing a task\n",
    "task = client.post_task('mytask', image='harbor2.vantage6.ai/testing/v6-test-py', \n",
    "                        collaboration_id=COLLABORATION_ID,\n",
    "                        organization_ids=[2],\n",
    "                        input_={'method': 'column_names', 'master':True, 'kwargs': {'output_format': 'json', 'exclude_orgs': [3]}})"
   ]
  },
  {
   "cell_type": "code",
   "execution_count": 15,
   "metadata": {},
   "outputs": [
    {
     "data": {
      "text/plain": [
       "{'parent': None,\n",
       " 'children': None,\n",
       " 'run_id': 4,\n",
       " 'image': 'harbor2.vantage6.ai/testing/v6-test-py',\n",
       " 'id': 7,\n",
       " 'database': '',\n",
       " 'results': [{'id': 7, 'link': '/api/result/7', 'methods': ['GET', 'PATCH']}],\n",
       " 'name': 'mytask',\n",
       " 'description': '',\n",
       " 'initiator': 2,\n",
       " 'complete': False,\n",
       " 'collaboration': {'id': 1,\n",
       "  'link': '/api/collaboration/1',\n",
       "  'methods': ['DELETE', 'GET', 'PATCH']}}"
      ]
     },
     "execution_count": 15,
     "metadata": {},
     "output_type": "execute_result"
    }
   ],
   "source": [
    "task"
   ]
  },
  {
   "cell_type": "code",
   "execution_count": 18,
   "metadata": {},
   "outputs": [
    {
     "name": "stdout",
     "output_type": "stream",
     "text": [
      "0: {'s2', 's4', 'bmi', 's3', 's1', 's5', 'bp', 's6', 'sex', 'age'}\n",
      "Log for organization 2\n",
      "info > wrapper for v6_test_py\n",
      "info > Reading input file /mnt/data/task-000000007/input\n",
      "info > No data format specified. Assuming input data is pickle format\n",
      "info > Reading token file '/mnt/data/task-000000007/token'\n",
      "info > Using '/mnt/data/database.csv' as database\n",
      "info > Dispatching ...\n",
      "info > Module 'v6_test_py' imported!\n",
      "info > Running a master-container\n",
      "info > Working with collaboration_id <1>\n",
      "info > Calling column names tasks on all organizations within collaboration except [3]\n",
      "info > Organizations in my collaboration: [{'address1': 'my address 1, Amsterdam', 'address2': None, 'collaborations': [{'id': 1, 'link': '/api/collaboration/1', 'methods': ['DELETE', 'GET', 'PATCH']}], 'country': 'the Netherlands', 'domain': '', 'id': 2, 'name': 'dummy', 'nodes': [{'id': 3, 'link': '/api/node/3', 'methods': ['DELETE', 'GET', 'PATCH']}], 'public_key': 'LS0tLS1CRUdJTiBQVUJMSUMgS0VZLS0tLS0KTUlJQ0lqQU5CZ2txaGtpRzl3MEJBUUVGQUFPQ0FnOEFNSUlDQ2dLQ0FnRUFwS3lOSkxRWHZWNHdqMlhyVFpyQQpsNGw0dkJqQkpaSklNbzZBMlJWRmhkbk1JeUovd0oyaGFXSlk2blpLSk1qOTRMOVEyRlV6bHZRdlJBSGJ3UVIvCkFBYmprMXloRmFBZVFiVVhXbnduRVowTGU0ZVpLWGxjWi9yeVJLdkNvK1ZQNmV0NVdvbldPU2pJbkFWRXd4QjEKWjk4TmQ2Ulc5N3pYREFmRU5MWDJzTjYrTkRBMngrTzFIMzhWbGpEZnUvaHU1WWpCemRwUmk5dzIxRjl2b3BnZAo4NnpZVjVOT1l3WUJJMTk4UkpEN0hQOGJOYUJvbDQ4aG9lQjBSdUJIU2l2ME5NQldzY2lXRENKY0JHK2tqcnRPCllqeEMrQXR2Qis5N2pleG5KSFJhVHFrKzhQTFNreC9TWmpiWkxmNzVTZHY0L3RMZ0JLWmRNZUNJNE1Wamk1ZWYKOUVudlJRRG1kcHRCQzBoQkRTWGNHUVBxZXFDY3V1MmNQUEVaejliQlN4TUd4L2M2cllZekVXSmt2cVNRNS9MaQp0aWRZek93Z3lrTlJwV0R6RjJ5QklpRGdaeFJNTkw2T1Z0WHJwanpna09XallPVmNYNDdoU01HUW05T3dDYmYyCnJVUG4yV1YzY3hYZkF0NmNMazkvak9EWHo4QlZZai9MQ1VuUGpqbG5JZExYSEVvMTAzeElmcHVlZjM1SGdFSVkKREdTWTZza3QraUs4N3d4UjdjN0ZDaUozMTBEa2RqUnRFVW1wWEpLZlluVWVxbVNYSDJOa1JZUER2TlRkNEFlMwp5aTBzcS96anBmbFlmcFEwdjVJdXA2TUpPc05VRER0WVZGY2ViaUkzQ083Vnp3QnFnc25iSzRIUjdvU0l4YTgxCmJTL0VzQTRZcnkxQTBhb0JXMnVvTEE4Q0F3RUFBUT09Ci0tLS0tRU5EIFBVQkxJQyBLRVktLS0tLQo=', 'results': [{'id': 2, 'link': '/api/result/2', 'methods': ['GET', 'PATCH']}, {'id': 5, 'link': '/api/result/5', 'methods': ['GET', 'PATCH']}, {'id': 4, 'link': '/api/result/4', 'methods': ['GET', 'PATCH']}, {'id': 1, 'link': '/api/result/1', 'methods': ['GET', 'PATCH']}, {'id': 6, 'link': '/api/result/6', 'methods': ['GET', 'PATCH']}, {'id': 3, 'link': '/api/result/3', 'methods': ['GET', 'PATCH']}, {'id': 7, 'link': '/api/result/7', 'methods': ['GET', 'PATCH']}], 'roles': [], 'users': [{'id': 2, 'link': '/api/user/2', 'methods': ['DELETE', 'GET', 'PATCH']}], 'zipcode': '1234ab'}]\n",
      "info > Dispatching task to organizations with ids [2].\n",
      "[3] will be excluded.\n",
      "info > Defining input parameters\n",
      "info > Dispatching node-tasks\n",
      "info > Waiting for results\n",
      "info > Waiting for results\n",
      "info > Waiting for results\n",
      "info > Waiting for results\n",
      "info > Waiting for results\n",
      "info > Obtaining results\n",
      "info > master algorithm complete\n",
      "info > Writing output to /mnt/data/task-000000007/output\n",
      "\n"
     ]
    }
   ],
   "source": [
    "# It will take a few seconds before results are returned\n",
    "result = client.get_results(task_id=task['id'])\n",
    "print_result(result)\n",
    "print_logs(result)"
   ]
  },
  {
   "cell_type": "code",
   "execution_count": 40,
   "metadata": {},
   "outputs": [],
   "source": [
    "pipe = pipeline.make_pipeline(SimpleImputer(missing_values=0), StandardScaler(), LinearRegression())"
   ]
  },
  {
   "cell_type": "code",
   "execution_count": 41,
   "metadata": {},
   "outputs": [],
   "source": [
    "task = client.post_task('fit_pipeline', image=IMAGE, collaboration_id=COLLABORATION_ID,\n",
    "                        organization_ids=MASTER_ORGANIZATION,\n",
    "                        input_={'method': 'fit_pipeline', 'master': True,\n",
    "                            'kwargs': {'pipe': pipe, 'features': FEATURES, 'target': TARGET,\n",
    "                                      'keys': KEYS, 'exclude_orgs': MASTER_ORGANIZATION + [3]}})"
   ]
  },
  {
   "cell_type": "code",
   "execution_count": 43,
   "metadata": {},
   "outputs": [
    {
     "name": "stdout",
     "output_type": "stream",
     "text": [
      "0: 25.91429672367083\n",
      "Log for organization 1\n",
      "info > wrapper for v6_carrier_py\n",
      "info > Reading input file /mnt/data/task-000000671/input\n",
      "info > No data format specified. Assuming input data is pickle format\n",
      "info > Reading token file '/mnt/data/task-000000671/token'\n",
      "info > Using '/mnt/data/database.csv' as database\n",
      "info > Dispatching ...\n",
      "info > Module 'v6_carrier_py' imported!\n",
      "info > Running a master-container\n",
      "info > Working with collaboration_id <1>\n",
      "info > Training pipeline with the following steps: {'simpleimputer': SimpleImputer(), 'standardscaler': StandardScaler(), 'linearregression': LinearRegression()}\n",
      "info > Organizations in my collaboration: [{'_public_key': '-----BEGIN PUBLIC KEY-----\\nMIICIjANBgkqhkiG9w0BAQEFAAOCAg8AMIICCgKCAgEApKyNJLQXvV4wj2XrTZrA\\nl4l4vBjBJZJIMo6A2RVFhdnMIyJ/wJ2haWJY6nZKJMj94L9Q2FUzlvQvRAHbwQR/\\nAAbjk1yhFaAeQbUXWnwnEZ0Le4eZKXlcZ/ryRKvCo+VP6et5WonWOSjInAVEwxB1\\nZ98Nd6RW97zXDAfENLX2sN6+NDA2x+O1H38VljDfu/hu5YjBzdpRi9w21F9vopgd\\n86zYV5NOYwYBI198RJD7HP8bNaBol48hoeB0RuBHSiv0NMBWsciWDCJcBG+kjrtO\\nYjxC+AtvB+97jexnJHRaTqk+8PLSkx/SZjbZLf75Sdv4/tLgBKZdMeCI4MVji5ef\\n9EnvRQDmdptBC0hBDSXcGQPqeqCcuu2cPPEZz9bBSxMGx/c6rYYzEWJkvqSQ5/Li\\ntidYzOwgykNRpWDzF2yBIiDgZxRMNL6OVtXrpjzgkOWjYOVcX47hSMGQm9OwCbf2\\nrUPn2WV3cxXfAt6cLk9/jODXz8BVYj/LCUnPjjlnIdLXHEo103xIfpuef35HgEIY\\nDGSY6skt+iK87wxR7c7FCiJ310DkdjRtEUmpXJKfYnUeqmSXH2NkRYPDvNTd4Ae3\\nyi0sq/zjpflYfpQ0v5Iup6MJOsNUDDtYVFcebiI3CO7VzwBqgsnbK4HR7oSIxa81\\nbS/EsA4Yry1A0aoBW2uoLA8CAwEAAQ==\\n-----END PUBLIC KEY-----\\n', 'address1': 'my address 1, Amsterdam', 'address2': None, 'country': 'the Netherlands', 'domain': None, 'id': 1, 'name': 'NLEsC', 'zipcode': '1234ab'}, {'_public_key': '', 'address1': 'my address 1, Amsterdam', 'address2': None, 'country': 'the Netherlands', 'domain': None, 'id': 2, 'name': 'organization for node 0', 'zipcode': '1234ab'}, {'_public_key': '', 'address1': 'my address 1, Amsterdam', 'address2': None, 'country': 'the Netherlands', 'domain': None, 'id': 3, 'name': 'organization for node 1', 'zipcode': '1234ab'}, {'_public_key': '', 'address1': 'my address 1, Amsterdam', 'address2': None, 'country': 'the Netherlands', 'domain': None, 'id': 6, 'name': 'organization for cbs node', 'zipcode': '1234ab'}]\n",
      "info > Dispatching task to organizations with ids [2, 6].\n",
      "[1, 3] will be excluded.\n",
      "info > Defining input parameters\n",
      "info > Dispatching node-tasks\n",
      "info > Waiting for results\n",
      "info > Waiting for results\n",
      "info > Waiting for results\n",
      "info > Waiting for results\n",
      "info > Waiting for results\n",
      "info > Obtaining results\n",
      "info > Retrieved node data with shape (5000, 93)\n",
      "info > Retrieved node data with shape (999, 45)\n",
      "info > GBAGeboorteJaar,GBAGeboorteMaand,GBAGeboorteDag,GBAGeslacht,GBAPostcode,GBAHuisnummer,GBAToev,ZVWKOPHOOGFACTOR_2010,ZVWKHUISARTS_2010,ZVWKFARMACIE_2010,ZVWKZIEKENHUIS_2010,ZVWKPARAMEDISCH_2010,ZVWKZIEKENVERVOER_2010,ZVWKBUITENLAND_2010,ZVWKOVERIG_2010,ZVWKEERSTELIJNSPSYCHO_2010,ZVWKGGZ_2010,ZVWKHULPMIDDEL_2010,ZVWKOPHOOGFACTOR_2011,ZVWKHUISARTS_2011,ZVWKFARMACIE_2011,ZVWKZIEKENHUIS_2011,ZVWKPARAMEDISCH_2011,ZVWKZIEKENVERVOER_2011,ZVWKBUITENLAND_2011,ZVWKOVERIG_2011,ZVWKEERSTELIJNSPSYCHO_2011,ZVWKGGZ_2011,ZVWKHULPMIDDEL_2011,ZVWKOPHOOGFACTOR_2012,ZVWKHUISARTS_2012,ZVWKFARMACIE_2012,ZVWKZIEKENHUIS_2012,ZVWKPARAMEDISCH_2012,ZVWKZIEKENVERVOER_2012,ZVWKBUITENLAND_2012,ZVWKOVERIG_2012,ZVWKEERSTELIJNSPSYCHO_2012,ZVWKGGZ_2012,ZVWKHULPMIDDEL_2012,ZVWKOPHOOGFACTOR_2013,ZVWKHUISARTS_2013,ZVWKFARMACIE_2013,ZVWKZIEKENHUIS_2013,ZVWKPARAMEDISCH_2013,ZVWKZIEKENVERVOER_2013,ZVWKBUITENLAND_2013,ZVWKOVERIG_2013,ZVWKEERSTELIJNSPSYCHO_2013,ZVWKGGZ_2013,ZVWKGERIATRISCH_2013,ZVWKHULPMIDDEL_2013,ZVWKOPHOOGFACTOR_2014,ZVWKHUISARTS_2014,ZVWKFARMACIE_2014,ZVWKZIEKENHUIS_2014,ZVWKPARAMEDISCH_2014,ZVWKZIEKENVERVOER_2014,ZVWKBUITENLAND_2014,ZVWKOVERIG_2014,ZVWKGENBASGGZ_2014,ZVWKSPECGGZ_2014,ZVWKGERIATRISCH_2014,ZVWKHULPMIDDEL_2014,ZVWKWYKVERPLEGING_2014,ZVWKOPHOOGFACTOR_2015,ZVWKHUISARTS_2015,ZVWKFARMACIE_2015,ZVWKZIEKENHUIS_2015,ZVWKPARAMEDISCH_2015,ZVWKZIEKENVERVOER_2015,ZVWKBUITENLAND_2015,ZVWKOVERIG_2015,ZVWKGENBASGGZ_2015,ZVWKSPECGGZ_2015,ZVWKGERIATRISCH_2015,ZVWKWYKVERPLEGING_2015,ZVWKHULPMIDDEL_2015,ZVWKMULTIDISC_2015,ZVWKOPHOOGFACTOR_2016,ZVWKHUISARTS_2016,ZVWKFARMACIE_2016,ZVWKZIEKENHUIS_2016,ZVWKPARAMEDISCH_2016,ZVWKZIEKENVERVOER_2016,ZVWKBUITENLAND_2016,ZVWKOVERIG_2016,ZVWKGENBASGGZ_2016,ZVWKSPECGGZ_2016,ZVWKGERIATRISCH_2016,ZVWKWYKVERPLEGING_2016,ZVWKHULPMIDDEL_2016,ZVWKMULTIDISC_2016,Unnamed: 0,VISIT1_DATE,N_DM_DUR_2,N_GTS_WHO,N_Diabetes_WHO_2,N_DIABETES_2,N_T2DM_new_diagn,SEX,Age,N_Education_3cat,Employment_status,Occupational_category,Income_equivalent,n_smokingcat4,WOZ,N_ALCOHOL_CAT,NIT_kcal,medGRscore_TR,height,weight,bmi,N_CVD,med_depression,PHQ9_depr,MINIcurrdepr,MINIlifedepr,N_HT,TOTALPA,MVPA,MEAN_VALID_MIN_SLEEP_T,MEAN_SED_MIN_WAKE_T,MEAN_STAND_MIN_WAKE_T,MEAN_STEP_MIN_WAKE_T,waist,hip,SF36_Q7,SF36_Q10,Mobility_lim\n",
      "info > Joined table has shape (1001, 131)\n",
      "info > Dropped 0 rows with duplicate identifiers\n",
      "info > Writing output to /mnt/data/task-000000671/output\n",
      "\n"
     ]
    }
   ],
   "source": [
    "result = client.get_results(task_id=task['id'])\n",
    "print_result(result)\n",
    "print_logs(result)"
   ]
  },
  {
   "cell_type": "code",
   "execution_count": 28,
   "metadata": {},
   "outputs": [],
   "source": [
    "# The actual result of the algorithm\n",
    "result[0]['result']"
   ]
  },
  {
   "cell_type": "code",
   "execution_count": null,
   "metadata": {},
   "outputs": [],
   "source": []
  }
 ],
 "metadata": {
  "kernelspec": {
   "display_name": "Python 3",
   "language": "python",
   "name": "python3"
  },
  "language_info": {
   "codemirror_mode": {
    "name": "ipython",
    "version": 3
   },
   "file_extension": ".py",
   "mimetype": "text/x-python",
   "name": "python",
   "nbconvert_exporter": "python",
   "pygments_lexer": "ipython3",
   "version": "3.8.5"
  }
 },
 "nbformat": 4,
 "nbformat_minor": 4
}
