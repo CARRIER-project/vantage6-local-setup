{
 "cells": [
  {
   "cell_type": "code",
   "execution_count": 12,
   "metadata": {},
   "outputs": [],
   "source": [
    "import vantage6.client as vtgclient\n",
    "from sklearn.datasets import load_iris\n",
    "from sklearn.linear_model import LinearRegression, GammaRegressor\n",
    "from sklearn.preprocessing import StandardScaler\n",
    "from sklearn import pipeline\n",
    "from sklearn.impute import SimpleImputer\n",
    "from run_task import print_result, print_logs\n",
    "from pathlib import Path\n",
    "import numpy as np"
   ]
  },
  {
   "cell_type": "code",
   "execution_count": 13,
   "metadata": {},
   "outputs": [],
   "source": [
    "HOST = 'http://145.100.58.16'\n",
    "PORT = 5000\n",
    "IMAGE ='145.100.58.210:443/v6-carrier-py'\n",
    "USERNAME = 'dummy'\n",
    "PASSWORD = '4hDDs28@M#pOMuu'\n",
    "COLLABORATION_ID = 1\n",
    "ORGANIZATION_IDS = [1]\n",
    "\n",
    "\n",
    "TARGET = 'N_CVD'\n",
    "client = vtgclient.Client(HOST, PORT)\n",
    "client.authenticate(USERNAME, PASSWORD)\n",
    "\n",
    "\n",
    "#client.setup_encryption(None)\n",
    "client.setup_encryption(Path('/home/jovyan/app/node_rsa'))"
   ]
  },
  {
   "cell_type": "code",
   "execution_count": 14,
   "metadata": {},
   "outputs": [],
   "source": [
    "# Retrieve columns names to check if a simple algorithm succeeds\n",
    "task = client.post_task('column_names', image=IMAGE, \n",
    "                        collaboration_id=COLLABORATION_ID,\n",
    "                        organization_ids=ORGANIZATION_IDS,\n",
    "                        input_={'method': 'column_names', 'master': False},\n",
    "                        data_format='json')"
   ]
  },
  {
   "cell_type": "code",
   "execution_count": 15,
   "metadata": {},
   "outputs": [
    {
     "name": "stdout",
     "output_type": "stream",
     "text": [
      "[{'result': ['age', 'sex', 'bmi', 'bp', 's1', 's2', 's3', 's4', 's5', 's6'], 'task': {'id': 5, 'link': '/api/task/5', 'methods': ['DELETE', 'GET']}, 'id': 5, 'organization': {'id': 1, 'link': '/api/organization/1', 'methods': ['PATCH', 'GET']}, 'finished_at': '2020-12-17T09:17:31.926249+00:00', 'assigned_at': '2020-12-17T09:17:26.904073+00:00', 'log': \"info > wrapper for v6_carrier_py\\ninfo > Reading input file /mnt/data/task-000000005/input\\ninfo > Reading token file '/mnt/data/task-000000005/token'\\ninfo > Using '/mnt/data/database.csv' as database\\ninfo > Dispatching ...\\ninfo > Module 'v6_carrier_py' imported!\\ninfo > Running a regular container\\ninfo > Retrieving column names\\ninfo > Writing output to /mnt/data/task-000000005/output\\n\", 'input': b'json.{\"method\": \"column_names\", \"master\": false}', 'started_at': '2020-12-17T09:17:26.968605+00:00'}]\n",
      "0: ['age', 'sex', 'bmi', 'bp', 's1', 's2', 's3', 's4', 's5', 's6']\n",
      "Log for organization 1\n",
      "info > wrapper for v6_carrier_py\n",
      "info > Reading input file /mnt/data/task-000000005/input\n",
      "info > Reading token file '/mnt/data/task-000000005/token'\n",
      "info > Using '/mnt/data/database.csv' as database\n",
      "info > Dispatching ...\n",
      "info > Module 'v6_carrier_py' imported!\n",
      "info > Running a regular container\n",
      "info > Retrieving column names\n",
      "info > Writing output to /mnt/data/task-000000005/output\n",
      "\n"
     ]
    }
   ],
   "source": [
    "# It will take a few seconds before results are returned\n",
    "result = client.get_results(task_id=task['id'])\n",
    "print(result)\n",
    "print_result(result)\n",
    "print_logs(result)"
   ]
  },
  {
   "cell_type": "code",
   "execution_count": null,
   "metadata": {},
   "outputs": [],
   "source": []
  }
 ],
 "metadata": {
  "kernelspec": {
   "display_name": "Python 3",
   "language": "python",
   "name": "python3"
  },
  "language_info": {
   "codemirror_mode": {
    "name": "ipython",
    "version": 3
   },
   "file_extension": ".py",
   "mimetype": "text/x-python",
   "name": "python",
   "nbconvert_exporter": "python",
   "pygments_lexer": "ipython3",
   "version": "3.8.5"
  }
 },
 "nbformat": 4,
 "nbformat_minor": 4
}
