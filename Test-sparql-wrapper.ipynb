{
 "cells": [
  {
   "cell_type": "code",
   "execution_count": 1,
   "metadata": {},
   "outputs": [],
   "source": [
    "import vantage6.client as vtgclient\n",
    "from run_task import print_result, print_logs"
   ]
  },
  {
   "cell_type": "code",
   "execution_count": 2,
   "metadata": {},
   "outputs": [],
   "source": [
    "HOST = 'http://vserver'\n",
    "PORT = 5000\n",
    "IMAGE ='carrier-harbor2.carrier-mu.surf-hosted.nl/carrier/v6-carrier-py-sparql'\n",
    "\n",
    "USERNAME = 'admin'\n",
    "PASSWORD = 'admin'\n",
    "\n",
    "COLLABORATION_ID = 1\n",
    "ORGANIZATIONS = [3]\n",
    "\n",
    "QUERY = '''\n",
    "PREFIX schema: <http://schema.org/>\n",
    "PREFIX skos: <http://www.w3.org/2004/02/skos/core#>\n",
    "select ?s ?pred ?o where {\n",
    "    ?s skos:prefLabel 'goat'@en .\n",
    "    ?s ?pred ?o .\n",
    "}\n",
    "'''\n",
    "\n",
    "client = vtgclient.Client(HOST, PORT)\n",
    "client.authenticate(USERNAME, PASSWORD)\n",
    "client.setup_encryption(None)"
   ]
  },
  {
   "cell_type": "code",
   "execution_count": 3,
   "metadata": {},
   "outputs": [],
   "source": [
    "# Retrieve columns names to check if a simple algorithm succeeds\n",
    "task = client.post_task('column_names', image=IMAGE, collaboration_id=COLLABORATION_ID,\n",
    "                        organization_ids=ORGANIZATIONS,\n",
    "                        input_={'method': 'column_names', 'query':QUERY})\n"
   ]
  },
  {
   "cell_type": "code",
   "execution_count": 5,
   "metadata": {},
   "outputs": [
    {
     "name": "stdout",
     "output_type": "stream",
     "text": [
      "0: ['s', 'pred', 'o']\n",
      "Log for organization 3\n",
      "info > wrapper for v6_carrier_py\n",
      "info > Reading input file /mnt/data/task-000000733/input\n",
      "info > No data format specified. Assuming input data is pickle format\n",
      "info > Reading token file '/mnt/data/task-000000733/token'\n",
      "info > Using 'http://gp-triplestore:7200/repositories/gp-organization' as triplestore endpoint\n",
      "info > Dispatching ...\n",
      "info > Module 'v6_carrier_py' imported!\n",
      "info > Running a regular container\n",
      "info > Retrieving column names\n",
      "info > Writing output to /mnt/data/task-000000733/output\n",
      "\n"
     ]
    }
   ],
   "source": [
    "# It will take a few seconds before results are returned\n",
    "result = client.get_results(task_id=task['id'])\n",
    "print_result(result)\n",
    "print_logs(result)"
   ]
  },
  {
   "cell_type": "code",
   "execution_count": 19,
   "metadata": {},
   "outputs": [],
   "source": [
    "# Retrieve columns names to check if a simple algorithm succeeds\n",
    "task = client.post_task('count', image=IMAGE, collaboration_id=COLLABORATION_ID,\n",
    "                        organization_ids=ORGANIZATIONS,\n",
    "                        input_={'method': 'count', 'query':QUERY})\n"
   ]
  },
  {
   "cell_type": "code",
   "execution_count": 20,
   "metadata": {},
   "outputs": [
    {
     "name": "stdout",
     "output_type": "stream",
     "text": [
      "0: 701\n",
      "Log for organization 3\n",
      "info > wrapper for v6_carrier_py\n",
      "info > Reading input file /mnt/data/task-000000592/input\n",
      "info > No data format specified. Assuming input data is pickle format\n",
      "info > Reading token file '/mnt/data/task-000000592/token'\n",
      "info > Using 'http://gp-triplestore:7200/repositories/gp-organization' as triplestore endpoint\n",
      "info > Dispatching ...\n",
      "info > Module 'v6_carrier_py' imported!\n",
      "info > Running a regular container\n",
      "info > Writing output to /mnt/data/task-000000592/output\n",
      "\n"
     ]
    }
   ],
   "source": [
    "# It will take a few seconds before results are returned\n",
    "result = client.get_results(task_id=task['id'])\n",
    "print_result(result)\n",
    "print_logs(result)"
   ]
  },
  {
   "cell_type": "code",
   "execution_count": null,
   "metadata": {},
   "outputs": [],
   "source": []
  }
 ],
 "metadata": {
  "kernelspec": {
   "display_name": "Python 3",
   "language": "python",
   "name": "python3"
  },
  "language_info": {
   "codemirror_mode": {
    "name": "ipython",
    "version": 3
   },
   "file_extension": ".py",
   "mimetype": "text/x-python",
   "name": "python",
   "nbconvert_exporter": "python",
   "pygments_lexer": "ipython3",
   "version": "3.8.5"
  }
 },
 "nbformat": 4,
 "nbformat_minor": 4
}
